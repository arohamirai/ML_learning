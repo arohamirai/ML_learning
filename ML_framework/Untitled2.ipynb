{
 "cells": [
  {
   "cell_type": "code",
   "execution_count": null,
   "metadata": {
    "collapsed": true
   },
   "outputs": [],
   "source": [
    "import tensorflow as tf"
   ]
  },
  {
   "cell_type": "markdown",
   "metadata": {},
   "source": [
    "# 0 、文件位置"
   ]
  },
  {
   "cell_type": "code",
   "execution_count": null,
   "metadata": {
    "collapsed": true
   },
   "outputs": [],
   "source": [
    "trainset_path = \"./image/train\"\n",
    "testset_path = \"./image/test\"\n",
    "output_path = \"./output\""
   ]
  },
  {
   "cell_type": "markdown",
   "metadata": {},
   "source": [
    "# 一、创建 TFRecords文件"
   ]
  },
  {
   "cell_type": "code",
   "execution_count": null,
   "metadata": {
    "collapsed": true
   },
   "outputs": [],
   "source": [
    "import glob\n",
    "import os\n",
    "from itertools import groupby\n",
    "from scipy import misc"
   ]
  },
  {
   "cell_type": "code",
   "execution_count": null,
   "metadata": {
    "collapsed": false
   },
   "outputs": [],
   "source": [
    "# class 信息\n",
    "breeds_with_path = glob.glob(trainset_path + \"/*\")\n",
    "breeds = list(map(lambda x:x.split(\"/\")[3],breeds_with_path))\n",
    "breeds_dict = dict(zip(breeds, [x for x in range(len(breeds))]))"
   ]
  },
  {
   "cell_type": "code",
   "execution_count": null,
   "metadata": {
    "collapsed": false
   },
   "outputs": [],
   "source": [
    "print(breeds_dict[\"cat\"])\n",
    "print(breeds_dict[\"bird\"])\n",
    "print(breeds_dict[\"dog\"])"
   ]
  },
  {
   "cell_type": "code",
   "execution_count": null,
   "metadata": {
    "collapsed": true
   },
   "outputs": [],
   "source": [
    "def create_record(dataset_path,output_location):\n",
    "    # 获取数据集下所有文件路径\n",
    "    dataset_files = glob.glob(dataset_path + \"/*/*.jpg\")\n",
    "    # 分离出claess信息,得到（class,file_path）对的列表\n",
    "    image_filepath_with_breed = list(map(lambda file_path:(file_path.split(\"/\")[3],file_path),dataset_files))\n",
    "    \n",
    "    #每个TFRecord文件保存10个图片\n",
    "    nums_per_file = 10\n",
    "    writer = None\n",
    "    \n",
    "    # 记录当前读到的图像index\n",
    "    current_index = 0\n",
    "    for breed, file_path in image_filepath_with_breed:\n",
    "        if current_index % nums_per_file == 0:\n",
    "            if writer:\n",
    "                print(\"current_index = \",current_index,\"\\n\")\n",
    "                writer.close()\n",
    "            \n",
    "            # 格式化字符串\n",
    "            record_filename = \"{output_location}{current_index}.tfrecords\".format(\n",
    "            output_location = output_location,\n",
    "            current_index = current_index)\n",
    "            \n",
    "            writer = tf.python_io.TFRecordWriter(record_filename)\n",
    "            \n",
    "        current_index += 1\n",
    "        \n",
    "        # 读取图像并转换为tf.example格式\n",
    "        image = misc.imread(file_path)\n",
    "            \n",
    "        # 图像转换为Byte型\n",
    "        image_raw = image.tobytes()\n",
    "        \n",
    "        example = tf.train.Example(features = \n",
    "                                  tf.train.Features(feature = {\n",
    "                    \"label\": tf.train.Feature(int64_list = tf.train.Int64List(value = [breeds_dict[breed]])),\n",
    "                    \"image_raw\": tf.train.Feature(bytes_list = tf.train.BytesList(value = [image_raw]))   \n",
    "                }     \n",
    "            )    \n",
    "        )\n",
    "        \n",
    "        # 写入文件\n",
    "        writer.write(example.SerializeToString())\n",
    "        \n",
    "    # 关闭最后一个文件\n",
    "    writer.close()"
   ]
  },
  {
   "cell_type": "code",
   "execution_count": null,
   "metadata": {
    "collapsed": false
   },
   "outputs": [],
   "source": [
    "create_record(trainset_path,output_path + \"/training-images/\")\n",
    "create_record(testset_path,output_path + \"/testing-images/\")"
   ]
  },
  {
   "cell_type": "markdown",
   "metadata": {},
   "source": [
    "# 二、 读取TFRecord 文件"
   ]
  },
  {
   "cell_type": "code",
   "execution_count": null,
   "metadata": {
    "collapsed": true
   },
   "outputs": [],
   "source": []
  }
 ],
 "metadata": {
  "kernelspec": {
   "display_name": "Python [conda root]",
   "language": "python",
   "name": "conda-root-py"
  },
  "language_info": {
   "codemirror_mode": {
    "name": "ipython",
    "version": 3
   },
   "file_extension": ".py",
   "mimetype": "text/x-python",
   "name": "python",
   "nbconvert_exporter": "python",
   "pygments_lexer": "ipython3",
   "version": "3.5.2"
  }
 },
 "nbformat": 4,
 "nbformat_minor": 1
}

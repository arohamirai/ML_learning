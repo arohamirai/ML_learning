{
 "cells": [
  {
   "cell_type": "markdown",
   "metadata": {},
   "source": [
    "# 数据输入\n",
    "\n",
    "包含函数：\n",
    "1.  write_records_file(dataset, record_location)\n",
    "2. "
   ]
  },
  {
   "cell_type": "code",
   "execution_count": 1,
   "metadata": {
    "collapsed": true
   },
   "outputs": [],
   "source": [
    "import tensorflow as tf\n",
    "import glob\n",
    "from itertools import groupby\n",
    "from collections import defaultdict"
   ]
  },
  {
   "cell_type": "markdown",
   "metadata": {},
   "source": [
    "## 数据集所在目录"
   ]
  },
  {
   "cell_type": "code",
   "execution_count": 2,
   "metadata": {
    "collapsed": true
   },
   "outputs": [],
   "source": [
    "image_filenames = glob.glob(\"/home/lile/imagenet-dogs/n02*/*.jpg\")"
   ]
  },
  {
   "cell_type": "code",
   "execution_count": 3,
   "metadata": {
    "collapsed": true
   },
   "outputs": [],
   "source": [
    "training_dataset = defaultdict(list)   # 使用list初始化字典默认值\n",
    "testing_dataset  = defaultdict(list)"
   ]
  },
  {
   "cell_type": "code",
   "execution_count": 5,
   "metadata": {
    "collapsed": true
   },
   "outputs": [],
   "source": [
    "# breed:属; 种类; 类型;\n",
    "# 返回[类型，文件路径]对的列表\n",
    "image_filename_with_breed = list(map(lambda filename:(filename.split(\"/\")[4],filename),\n",
    "                                                 image_filenames))"
   ]
  },
  {
   "cell_type": "markdown",
   "metadata": {},
   "source": [
    "# 创建TFRecord 文件函数"
   ]
  },
  {
   "cell_type": "code",
   "execution_count": 9,
   "metadata": {
    "collapsed": false
   },
   "outputs": [],
   "source": [
    "def write_records_file(dataset, record_location):\n",
    "    \"\"\"\n",
    "    用  dataset 中的图像填充一个TFRecord文件，并将其类别包含进来\n",
    "\n",
    "    Parameters\n",
    "    ----------\n",
    "    dataset : dict(list)\n",
    "      Dictionary with each key being a label for the list of image filenames of its value.\n",
    "    record_location : str\n",
    "      Location to store the TFRecord output.\n",
    "    \"\"\"\n",
    "    writer = None\n",
    "\n",
    "    # 枚举dataset， 每个TFRecord文件记录100副图像，以加快写操作\n",
    "    current_index = 0 # TFRecord 文件名后缀\n",
    "    for breed, images_filenames in dataset.items():\n",
    "        for image_filename in images_filenames:\n",
    "            if current_index % 100 == 0:\n",
    "                if writer:\n",
    "                    print(\"current_index = \",current_index,'\\n')\n",
    "                    writer.close()\n",
    "                \n",
    "                #格式化字符串\n",
    "                record_filename = \"{record_location}-{current_index}.tfrecords\".format(\n",
    "                    record_location=record_location,\n",
    "                    current_index=current_index)\n",
    "               \n",
    "                writer = tf.python_io.TFRecordWriter(record_filename)\n",
    "            current_index += 1\n",
    "\n",
    "            image_file = tf.read_file(image_filename)\n",
    "\n",
    "            # In ImageNet dogs, there are a few images which TensorFlow doesn't recognize as JPEGs. This\n",
    "            # try/catch will ignore those images.\n",
    "            # 忽略掉tensorflow不能识别的jpeg图像，使用try/catch语句\n",
    "            try:\n",
    "                image = tf.image.decode_jpeg(image_file)\n",
    "            except:\n",
    "                print(image_filename)\n",
    "                continue\n",
    "\n",
    "            # Converting to grayscale saves processing and memory but isn't required.\n",
    "            # 灰度变换（不是必须的）\n",
    "            grayscale_image = tf.image.rgb_to_grayscale(image)\n",
    "            resized_image = tf.image.resize_images(grayscale_image, size = [250, 151])\n",
    "\n",
    "            # 在这里使用tf.cast,是因为虽然尺寸更改后的图像的数据类型三浮点型，但RGB值尚未转换到[0,1]区间内??\n",
    "            # tf.cast 并不进行缩放\n",
    "            image_bytes = sess.run(tf.cast(resized_image, tf.uint8)).tobytes()\n",
    "\n",
    "            # Instead of using the label as a string, it'd be more efficient to turn it into either an\n",
    "            # integer index or a one-hot encoded rank one tensor.\n",
    "            # https://en.wikipedia.org/wiki/One-hot\n",
    "            # 推荐将label转换为整型或one-hot编码，这将更高效，此处还是将label按字符串使用\n",
    "            image_label = breed.encode(\"utf-8\")\n",
    "\n",
    "            example = tf.train.Example(features=tf.train.Features(feature={\n",
    "                'label': tf.train.Feature(bytes_list=tf.train.BytesList(value=[image_label])),\n",
    "                'image': tf.train.Feature(bytes_list=tf.train.BytesList(value=[image_bytes]))\n",
    "            }))\n",
    "\n",
    "            writer.write(example.SerializeToString())\n",
    "    writer.close()"
   ]
  },
  {
   "cell_type": "code",
   "execution_count": 10,
   "metadata": {
    "collapsed": true
   },
   "outputs": [],
   "source": [
    "#groupby 将key函数作用于原循环器的各个元素,根据key函数结果,\n",
    "#将拥有相同函数结果的元素分到一个新的循环器。每个新的循环器以key函数返回结果为标签\n",
    "for dog_breed, breed_images in groupby(image_filename_with_breed ,lambda x:x[0]):\n",
    "    for i, breed_image in enumerate(breed_images):\n",
    "        if i % 5 == 0:\n",
    "            testing_dataset[dog_breed].append(breed_image[1])\n",
    "        else:\n",
    "            training_dataset[dog_breed].append(breed_image[1])\n",
    "            \n",
    "#检查每个品种的测试图像是否至少有全部图像的18%\n",
    "    breed_training_count = len(training_dataset[dog_breed])\n",
    "    breed_testing_count = len(testing_dataset[dog_breed])\n",
    "\n",
    "    assert round(breed_testing_count / (breed_training_count + breed_testing_count), 2) > 0.18, \"Not enough testing images\""
   ]
  },
  {
   "cell_type": "markdown",
   "metadata": {},
   "source": [
    "# 图像载入函数"
   ]
  },
  {
   "cell_type": "code",
   "execution_count": null,
   "metadata": {
    "collapsed": true
   },
   "outputs": [],
   "source": []
  }
 ],
 "metadata": {
  "anaconda-cloud": {},
  "kernelspec": {
   "display_name": "Python [conda root]",
   "language": "python",
   "name": "conda-root-py"
  },
  "language_info": {
   "codemirror_mode": {
    "name": "ipython",
    "version": 3
   },
   "file_extension": ".py",
   "mimetype": "text/x-python",
   "name": "python",
   "nbconvert_exporter": "python",
   "pygments_lexer": "ipython3",
   "version": "3.5.2"
  }
 },
 "nbformat": 4,
 "nbformat_minor": 1
}
